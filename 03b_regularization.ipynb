{
 "cells": [
  {
   "cell_type": "markdown",
   "metadata": {},
   "source": [
    "# Mínimos cuadrados con penalización por norma $\\ell_1$ y $\\ell_2$\n",
    "\n",
    "Tarea de regresión con datos sintéticos.\n",
    "\n",
    "Carga NumPy, matplotlib's pyplot y clases para regresión lineal de sklearn"
   ]
  },
  {
   "cell_type": "code",
   "execution_count": 1,
   "metadata": {},
   "outputs": [],
   "source": [
    "%matplotlib inline  \n",
    "\n",
    "import numpy as np\n",
    "import matplotlib.pyplot as plt\n",
    "from sklearn.linear_model import LinearRegression\n",
    "from sklearn.linear_model import Ridge\n",
    "from sklearn.linear_model import Lasso"
   ]
  },
  {
   "cell_type": "markdown",
   "metadata": {},
   "source": [
    "Función para expansión polimonial"
   ]
  },
  {
   "cell_type": "code",
   "execution_count": 2,
   "metadata": {},
   "outputs": [],
   "source": [
    "# función para expansión en funciones base\n",
    "def polynomial_expansion(x, degree):\n",
    "    phi_x = x\n",
    "    for i in range(degree - 1):\n",
    "        powerx = np.power(x, i + 2)\n",
    "        phi_x = np.concatenate((phi_x,powerx), axis=1)\n",
    "    return phi_x"
   ]
  },
  {
   "cell_type": "code",
   "execution_count": 6,
   "metadata": {},
   "outputs": [],
   "source": [
    "# crea matriz de diseño\n",
    "def design_matrix(X, degree = 1):\n",
    "    phi_X = polynomial_expansion(X, degree)\n",
    "    ones = np.ones(X.shape[0])\n",
    "    phi_X = np.column_stack((ones, phi_X))\n",
    "\n",
    "    return phi_X"
   ]
  },
  {
   "cell_type": "code",
   "execution_count": 8,
   "metadata": {},
   "outputs": [],
   "source": [
    "# sse = sum_{i=1}^n (y - y_hat)^2\n",
    "def sse(y, y_hat):\n",
    "    return np.square(y - y_hat).sum()"
   ]
  },
  {
   "cell_type": "code",
   "execution_count": 10,
   "metadata": {},
   "outputs": [],
   "source": [
    "# clase base para regresión lineal\n",
    "class MinimosCuadrados:\n",
    "    # estima los parámetros del modelo de regresión lineal dados los datos\n",
    "    def fit(self, X, y):\n",
    "        self.parameters = np.dot(np.linalg.inv(np.dot(X.T, X)), \n",
    "                                 np.dot(X.T, y))\n",
    "\n",
    "    # predice valores de vectores dados\n",
    "    def predict(self, X):\n",
    "        return np.dot(X, self.parameters)\n",
    "    \n",
    "    def evaluate(self, X, y):\n",
    "        y_hat = self.predict(X)\n",
    "        sse = sse(y, y_hat)\n",
    "        mse = self.sse / X.shape[0]\n",
    "        \n",
    "        return y_hat, sse, mse"
   ]
  },
  {
   "cell_type": "markdown",
   "metadata": {},
   "source": [
    "Datos de entrenamiento y validación"
   ]
  },
  {
   "cell_type": "code",
   "execution_count": 3,
   "metadata": {},
   "outputs": [
    {
     "data": {
      "image/png": "[encoded data removed]",
      "text/plain": [
       "<Figure size 432x288 with 1 Axes>"
      ]
     },
     "metadata": {
      "needs_background": "light"
     },
     "output_type": "display_data"
    }
   ],
   "source": [
    "x_train = np.array([0.0, 1.0, 2.0, 3.0, 4.0, 5.0, 6.0, 7.0, 8.0, 9.0, 10.0,\n",
    "               11.0, 12.0, 13.0, 14.0, 15.0, 16.0, 17.0, 18.0, 19.0, 20.0])\n",
    "x_train = x_train[:,np.newaxis]\n",
    "y_train = np.array([3.10341864, -0.36949342, -4.20684311, -5.61381536,\n",
    "                    -4.09482862, -3.23548442, -2.12902581, -7.28955698,\n",
    "                    -2.8821206, -8.44323436, -5.9491123, -4.77948529,\n",
    "                    -2.34705651, -3.11360479, 0.58915552, 3.66236699,\n",
    "                    3.14385906, 11.92541392, 12.06829608, 13.37635698, 14.84302011])\n",
    "\n",
    "x_valid = np.array([2.2, 2.7, 8.6, 9.5, 10.4, 10.5, 11.4, 14.9, 17.4, 19.3])\n",
    "x_valid = x_valid[:,np.newaxis]\n",
    "y_valid = np.array([-4.87830149, -2.22417664, -4.78937076, -5.39555669,\n",
    "                    -1.89941084, -4.39873376, -2.74141712, 0.86251019,\n",
    "                    8.2396395, 13.25506972])\n",
    "\n",
    "# datos en rango de valores para graficar modelos\n",
    "x_range = np.linspace(0, 20, 10000)\n",
    "x_range = x_range[:,np.newaxis]\n",
    "\n",
    "# grafica datos\n",
    "train_plot = plt.plot(x_train, y_train, 'ro', label = 'Entrenamiento')\n",
    "valid_plot = plt.plot(x_valid, y_valid, 'bo', label = 'Validacion')\n",
    "plt.legend()\n",
    "plt.show()"
   ]
  },
  {
   "cell_type": "markdown",
   "metadata": {},
   "source": [
    "### Mínimos cuadrados sin expansión polinomial"
   ]
  },
  {
   "cell_type": "code",
   "execution_count": 4,
   "metadata": {},
   "outputs": [
    {
     "data": {
      "image/png": "[encoded data removed]",
      "text/plain": [
       "<Figure size 432x288 with 1 Axes>"
      ]
     },
     "metadata": {
      "needs_background": "light"
     },
     "output_type": "display_data"
    }
   ],
   "source": [
    "# expande atributo con función base polinomial grado 1\n",
    "phi_x_train = polynomial_expansion(x_train,1)\n",
    "# crea matríz de diseño\n",
    "ones_train = np.ones((x_train.shape[0],1))\n",
    "phi_x_train = np.concatenate((ones_train, phi_x_train), axis=1)\n",
    "\n",
    "# estima parámetros por mínimos cuadrados\n",
    "# w = (XT X)-1 XT t\n",
    "theta_ml = np.dot(np.linalg.inv(np.dot(np.transpose(phi_x_train), phi_x_train)), \n",
    "                  np.dot(np.transpose(phi_x_train), y_train))\n",
    "y_train_hat = np.dot(phi_x_train,theta_ml)\n",
    "\n",
    "# predice para rango de valores\n",
    "phi_x_valid = polynomial_expansion(x_valid,1)\n",
    "ones_valid = np.ones((x_valid.shape[0],1))\n",
    "phi_x_valid = np.concatenate((ones_valid, phi_x_valid), axis=1)\n",
    "y_valid_hat = np.dot(phi_x_valid, theta_ml)\n",
    "\n",
    "# grafica resultados\n",
    "plt.plot(x_train, y_train, 'ro')\n",
    "plt.plot(x_valid, y_valid_hat, 'b')\n",
    "plt.show()"
   ]
  },
  {
   "cell_type": "markdown",
   "metadata": {},
   "source": [
    "### Mínimos cuadrados con expansión polinomial grado 2"
   ]
  },
  {
   "cell_type": "code",
   "execution_count": 5,
   "metadata": {},
   "outputs": [
    {
     "data": {
      "image/png": "[encoded data removed]",
      "text/plain": [
       "<Figure size 432x288 with 1 Axes>"
      ]
     },
     "metadata": {
      "needs_background": "light"
     },
     "output_type": "display_data"
    }
   ],
   "source": [
    "# expande atributo con función base polinomial grado 1\n",
    "phi_x_train = polynomial_expansion(x_train,2)\n",
    "phi_x_train = np.concatenate((ones_train, phi_x_train), axis=1)\n",
    "theta_ml = np.dot(np.linalg.inv(np.dot(np.transpose(phi_x_train), phi_x_train)), \n",
    "              np.dot(np.transpose(phi_x_train), y_train))\n",
    "y_train_hat = np.dot(phi_x_train,theta_ml)\n",
    "phi_x_valid = polynomial_expansion(x_valid,2)\n",
    "phi_x_valid = np.concatenate((ones_valid, phi_x_valid), axis=1)\n",
    "y_valid_hat = np.dot(phi_x_valid, theta_ml)\n",
    "plt.plot(x_valid, y_valid_hat, 'b')\n",
    "plt.plot(x_train, y_train, 'ro')\n",
    "plt.show()"
   ]
  },
  {
   "cell_type": "code",
   "execution_count": null,
   "metadata": {},
   "outputs": [],
   "source": []
  },
  {
   "cell_type": "code",
   "execution_count": null,
   "metadata": {},
   "outputs": [],
   "source": []
  },
  {
   "cell_type": "code",
   "execution_count": null,
   "metadata": {},
   "outputs": [],
   "source": []
  }
 ],
 "metadata": {
  "kernelspec": {
   "display_name": "Python 3",
   "language": "python",
   "name": "python3"
  },
  "language_info": {
   "codemirror_mode": {
    "name": "ipython",
    "version": 3
   },
   "file_extension": ".py",
   "mimetype": "text/x-python",
   "name": "python",
   "nbconvert_exporter": "python",
   "pygments_lexer": "ipython3",
   "version": "3.6.6"
  }
 },
 "nbformat": 4,
 "nbformat_minor": 1
}
